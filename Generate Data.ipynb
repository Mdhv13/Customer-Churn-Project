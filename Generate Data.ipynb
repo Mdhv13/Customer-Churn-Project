{
 "cells": [
  {
   "cell_type": "code",
   "execution_count": 8,
   "id": "24f5cba2-82e5-40ff-9c52-83529f29d3c5",
   "metadata": {},
   "outputs": [
    {
     "name": "stdout",
     "output_type": "stream",
     "text": [
      "Collecting faker\n",
      "  Downloading faker-37.6.0-py3-none-any.whl.metadata (15 kB)\n",
      "Requirement already satisfied: tzdata in /opt/anaconda3/lib/python3.12/site-packages (from faker) (2023.3)\n",
      "Downloading faker-37.6.0-py3-none-any.whl (1.9 MB)\n",
      "\u001b[2K   \u001b[90m━━━━━━━━━━━━━━━━━━━━━━━━━━━━━━━━━━━━━━━━\u001b[0m \u001b[32m1.9/1.9 MB\u001b[0m \u001b[31m4.7 MB/s\u001b[0m eta \u001b[36m0:00:00\u001b[0ma \u001b[36m0:00:01\u001b[0m\n",
      "\u001b[?25hInstalling collected packages: faker\n",
      "Successfully installed faker-37.6.0\n",
      "Note: you may need to restart the kernel to use updated packages.\n"
     ]
    }
   ],
   "source": [
    "pip install faker"
   ]
  },
  {
   "cell_type": "code",
   "execution_count": 10,
   "id": "a53096f5-2c46-477e-ad70-32e7700877a8",
   "metadata": {},
   "outputs": [],
   "source": [
    "import pandas as pd\n",
    "from faker import Faker\n",
    "import numpy as np"
   ]
  },
  {
   "cell_type": "code",
   "execution_count": 14,
   "id": "46c9ca35-847e-472d-8717-f47a7f0a9f22",
   "metadata": {},
   "outputs": [],
   "source": [
    "def generate_churn_data(num_customers):\n",
    "    fake = Faker()\n",
    "    data = []\n",
    "    for _ in range(num_customers):\n",
    "        # Simulate customer behavior\n",
    "        tenure = np.random.randint(1, 120)\n",
    "        monthly_charges = np.random.uniform(20, 150)\n",
    "        customer_service_calls = np.random.randint(0, 10)\n",
    "        contract_type = np.random.choice(['Month-to-month', 'One year', 'Two year'])\n",
    "        total_spend = monthly_charges * tenure * np.random.uniform(0.8, 1.2)\n",
    "\n",
    "        # Simple logic for churn\n",
    "        # Higher churn probability for month-to-month contracts,\n",
    "        # high service calls, and low tenure\n",
    "        churn_prob = (\n",
    "            0.4 * (1 if contract_type == 'Month-to-month' else 0) +\n",
    "            0.2 * (customer_service_calls / 10) +\n",
    "            0.1 * (1 - tenure / 120) +\n",
    "            0.1 * (total_spend / 10000)\n",
    "        )\n",
    "\n",
    "        churn = 1 if np.random.random() < churn_prob else 0\n",
    "\n",
    "        data.append([\n",
    "            fake.unique.random_int(min=10000, max=999999), # customer_id\n",
    "            tenure,\n",
    "            monthly_charges,\n",
    "            customer_service_calls,\n",
    "            contract_type,\n",
    "            total_spend,\n",
    "            churn # our target variable\n",
    "        ])\n",
    "\n",
    "    df = pd.DataFrame(data, columns=[\n",
    "        'customer_id', 'tenure', 'monthly_charges', 'customer_service_calls', \n",
    "        'contract_type', 'total_spend', 'churn'\n",
    "    ])\n",
    "    return df"
   ]
  },
  {
   "cell_type": "code",
   "execution_count": 15,
   "id": "9ca52ae4-4559-4596-854b-9a72605fc7b2",
   "metadata": {},
   "outputs": [
    {
     "name": "stdout",
     "output_type": "stream",
     "text": [
      "Data generated and saved to customer_data.csv\n"
     ]
    }
   ],
   "source": [
    "# Generate a large dataset\n",
    "df_pandas = generate_churn_data(100000)\n",
    "df_pandas.to_csv('customer_data.csv', index=False)\n",
    "print(\"Data generated and saved to customer_data.csv\")"
   ]
  },
  {
   "cell_type": "code",
   "execution_count": null,
   "id": "24a2affd-7d05-4fac-a380-ecabab4593f7",
   "metadata": {},
   "outputs": [],
   "source": []
  }
 ],
 "metadata": {
  "kernelspec": {
   "display_name": "Python 3 (ipykernel)",
   "language": "python",
   "name": "python3"
  },
  "language_info": {
   "codemirror_mode": {
    "name": "ipython",
    "version": 3
   },
   "file_extension": ".py",
   "mimetype": "text/x-python",
   "name": "python",
   "nbconvert_exporter": "python",
   "pygments_lexer": "ipython3",
   "version": "3.12.7"
  }
 },
 "nbformat": 4,
 "nbformat_minor": 5
}
